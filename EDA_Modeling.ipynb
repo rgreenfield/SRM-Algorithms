{
 "cells": [
  {
   "cell_type": "code",
   "execution_count": null,
   "metadata": {},
   "outputs": [],
   "source": [
    "import numpy as np\n",
    "import pandas as pd\n",
    "import seaborn as sns\n",
    "import matplotlib.pyplot as plt\n",
    "%matplotlib inline\n",
    "\n",
    "import warnings\n",
    "warnings.filterwarnings('ignore')"
   ]
  },
  {
   "cell_type": "markdown",
   "metadata": {},
   "source": [
    "### 1) Loading the Data\n",
    "    - Display the first 10 rows of the dataframe\n",
    "    - Helper function (splitting numeric/categorical data)\n",
    "    - Use bdplib to access the SSMS at work"
   ]
  },
  {
   "cell_type": "code",
   "execution_count": null,
   "metadata": {},
   "outputs": [],
   "source": [
    "file_name = 'data/stud.csv'\n",
    "\n",
    "df = pd.read_csv(file_name, delimiter=\"|\")"
   ]
  },
  {
   "cell_type": "code",
   "execution_count": null,
   "metadata": {},
   "outputs": [],
   "source": [
    "# Sample Data Generation (Replace this with your actual dataset)\n",
    "data = {\n",
    "    'Make': ['Toyota', 'Honda', 'Ford', 'Toyota', 'Honda', 'Ford'],\n",
    "    'Model': ['Camry', 'Civic', 'F-150', 'Corolla', 'Accord', 'Mustang'],\n",
    "    'Term_Length': [36, 48, 60, 24, 36, 48],\n",
    "    'Vehicle_Age': [2, 5, 1, 3, 4, 2],\n",
    "    'State': ['CA', 'TX', 'FL', 'CA', 'TX', 'FL'],\n",
    "    'Canceled': [0, 1, 0, 1, 0, 1]  # Target variable\n",
    "}\n",
    "\n",
    "df = pd.DataFrame(data)"
   ]
  },
  {
   "cell_type": "code",
   "execution_count": null,
   "metadata": {},
   "outputs": [],
   "source": [
    "# Show the first 10 rows of the dataframe\n",
    "df.head(10)"
   ]
  },
  {
   "cell_type": "markdown",
   "metadata": {},
   "source": [
    "### 2) Summary Statistics\n",
    "    - Check for missing values\n",
    "    - Check for duplicates\n",
    "    - Check datatype info\n",
    "    - Check unique values\n",
    "    - Summary Stats"
   ]
  },
  {
   "cell_type": "code",
   "execution_count": null,
   "metadata": {},
   "outputs": [],
   "source": [
    "df.isna().sum()"
   ]
  },
  {
   "cell_type": "code",
   "execution_count": null,
   "metadata": {},
   "outputs": [],
   "source": [
    "df.duplicated().sum()"
   ]
  },
  {
   "cell_type": "code",
   "execution_count": null,
   "metadata": {},
   "outputs": [],
   "source": [
    "df.info()"
   ]
  },
  {
   "cell_type": "code",
   "execution_count": null,
   "metadata": {},
   "outputs": [],
   "source": [
    "df.nunique()"
   ]
  },
  {
   "cell_type": "code",
   "execution_count": null,
   "metadata": {},
   "outputs": [],
   "source": [
    "df.describe()"
   ]
  },
  {
   "cell_type": "markdown",
   "metadata": {},
   "source": [
    "### 3) Data Visualization\n",
    "    - Insert some question that you want to answer with the visualized data\n",
    "    - Distributions, Histograms, Kernel Density Functions (KDE), Barcharts, Violincharts"
   ]
  },
  {
   "cell_type": "code",
   "execution_count": null,
   "metadata": {},
   "outputs": [],
   "source": []
  },
  {
   "cell_type": "code",
   "execution_count": null,
   "metadata": {},
   "outputs": [],
   "source": []
  },
  {
   "cell_type": "markdown",
   "metadata": {},
   "source": [
    "### 4) Data Processing\n",
    "    - Filling missing data\n",
    "    - LabelEncoding the Categorical Variables\n",
    "    - Scaling the data (Central Limit Theorem)\n",
    "    - Define the Features and Target Variable\n",
    "    - Splitting the dataframe into 80/20"
   ]
  },
  {
   "cell_type": "code",
   "execution_count": null,
   "metadata": {},
   "outputs": [],
   "source": [
    "from sklearn.model_selection import train_test_split, cross_val_score, StratifiedKFold\n",
    "from sklearn.preprocessing import LabelEncoder, StandardScaler"
   ]
  },
  {
   "cell_type": "code",
   "execution_count": null,
   "metadata": {},
   "outputs": [],
   "source": [
    "# Label Encoding for categorical variables\n",
    "label_encoders = {}\n",
    "for column in ['Make', 'Model', 'State']:\n",
    "    le = LabelEncoder()\n",
    "    df[column] = le.fit_transform(df[column])\n",
    "    label_encoders[column] = le"
   ]
  },
  {
   "cell_type": "code",
   "execution_count": null,
   "metadata": {},
   "outputs": [],
   "source": [
    "# Feature and Target Variables\n",
    "X = df.drop('Canceled', axis=1)\n",
    "y = df['Canceled']"
   ]
  },
  {
   "cell_type": "code",
   "execution_count": null,
   "metadata": {},
   "outputs": [],
   "source": [
    "# Train-Test Split\n",
    "X_train, X_test, y_train, y_test = train_test_split(X, y, test_size=0.2, random_state=42)\n",
    "\n",
    "# Standard Scaling (for Logistic Regression)\n",
    "scaler = StandardScaler()\n",
    "X_train_scaled = scaler.fit_transform(X_train)\n",
    "X_test_scaled = scaler.transform(X_test)"
   ]
  },
  {
   "cell_type": "markdown",
   "metadata": {},
   "source": [
    "### 4) Data Modeling\n",
    "    - Spliting the dataframe 80/20\n",
    "    - Applying Machine Learning Model (Unsupervised and Supervised Learning)\n",
    "    - Model Evaluation (Confusion Matrix, Precision/Recall/F1-Score, AUC/ROC Curve, K-Fold Cross-Validation)\n",
    " "
   ]
  },
  {
   "cell_type": "markdown",
   "metadata": {},
   "source": []
  },
  {
   "cell_type": "code",
   "execution_count": null,
   "metadata": {},
   "outputs": [],
   "source": [
    "from sklearn.linear_model import LogisticRegression\n",
    "from sklearn.ensemble import RandomForestClassifier\n",
    "from sklearn.neural_network import MLPClassifier\n",
    "from xgboost import XGBClassifier\n",
    "from sklearn.metrics import confusion_matrix, f1_score, roc_auc_score, roc_curve, auc"
   ]
  },
  {
   "cell_type": "code",
   "execution_count": null,
   "metadata": {},
   "outputs": [],
   "source": [
    "# Models\n",
    "models = {\n",
    "    'Logistic Regression': LogisticRegression(),\n",
    "    'Random Forest':       RandomForestClassifier(random_state=42),\n",
    "    'XGBoost':             XGBClassifier(random_state=42, use_label_encoder=False, eval_metric='logloss'),\n",
    "    'Neural Network':      MLPClassifier(activation = 'relu',\n",
    "                                        alpha = 0.005,\n",
    "                                        hidden_layer_sizes = (8,5,8),\n",
    "                                        learning_rate = 'constant',\n",
    "                                        solver = 'adam',\n",
    "                                        max_iter=1000)\n",
    "}\n",
    "\n",
    "# Model Evaluation\n",
    "results = {}\n",
    "for name, model in models.items():\n",
    "    if name == 'Logistic Regression' or name == 'Neural Network':\n",
    "        X_train_model = X_train_scaled\n",
    "        X_test_model = X_test_scaled\n",
    "    else:\n",
    "        X_train_model = X_train\n",
    "        X_test_model = X_test\n",
    "    \n",
    "    # 10-Fold Cross-Validation\n",
    "    cv = StratifiedKFold(n_splits=10, shuffle=True, random_state=42)\n",
    "    cv_scores = cross_val_score(model, X_train_model, y_train, cv=cv, scoring='roc_auc')\n",
    "    \n",
    "    # Training the model\n",
    "    model.fit(X_train_model, y_train)\n",
    "    \n",
    "    # Predictions\n",
    "    y_pred = model.predict(X_test_model)\n",
    "    y_pred_proba = model.predict_proba(X_test_model)[:, 1]\n",
    "    \n",
    "    # Evaluation Metrics\n",
    "    conf_matrix = confusion_matrix(y_test, y_pred)\n",
    "    f1 = f1_score(y_test, y_pred)\n",
    "    roc_auc = roc_auc_score(y_test, y_pred_proba)\n",
    "    \n",
    "    # Store results\n",
    "    results[name] = {\n",
    "        'CV AUC Scores': cv_scores,\n",
    "        'Confusion Matrix': conf_matrix,\n",
    "        'F1 Score': f1,\n",
    "        'ROC AUC': roc_auc\n",
    "    }\n",
    "    \n",
    "    # ROC Curve\n",
    "    fpr, tpr, _ = roc_curve(y_test, y_pred_proba)\n",
    "    roc_auc = auc(fpr, tpr)\n",
    "    \n",
    "    plt.plot(fpr, tpr, label=f'{name} (AUC = {roc_auc:.2f})')"
   ]
  },
  {
   "cell_type": "code",
   "execution_count": null,
   "metadata": {},
   "outputs": [],
   "source": [
    "# Plot ROC Curves\n",
    "plt.plot([0, 1], [0, 1], 'k--')\n",
    "plt.xlabel('False Positive Rate')\n",
    "plt.ylabel('True Positive Rate')\n",
    "plt.title('ROC Curve')\n",
    "plt.legend(loc='lower right')\n",
    "plt.show()\n"
   ]
  },
  {
   "cell_type": "code",
   "execution_count": null,
   "metadata": {},
   "outputs": [],
   "source": [
    "# Print Results\n",
    "for name, result in results.items():\n",
    "    print(f\"Model: {name}\")\n",
    "    print(f\"10-Fold CV AUC Scores: {result['CV AUC Scores']}\")\n",
    "    print(f\"Mean CV AUC: {np.mean(result['CV AUC Scores']):.2f}\")\n",
    "    print(f\"Confusion Matrix:\\n{result['Confusion Matrix']}\")\n",
    "    print(f\"F1 Score: {result['F1 Score']:.2f}\")\n",
    "    print(f\"ROC AUC: {result['ROC AUC']:.2f}\")\n",
    "    print(\"\\n\")"
   ]
  }
 ],
 "metadata": {
  "kernelspec": {
   "display_name": "Python 3",
   "language": "python",
   "name": "python3"
  },
  "language_info": {
   "name": "python",
   "version": "3.9.10"
  }
 },
 "nbformat": 4,
 "nbformat_minor": 2
}
